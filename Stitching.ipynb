{
 "cells": [
  {
   "cell_type": "code",
   "execution_count": 3,
   "id": "a967f987-84db-4867-8c45-6c9b9227c062",
   "metadata": {},
   "outputs": [],
   "source": [
    "file_path1 = \"C:\\\\Users\\\\nidhi\\\\OneDrive\\\\Documents\\\\PracticeCode\\\\File1.xlsx\"\n",
    "file_Path2 = \"C:\\\\Users\\\\nidhi\\\\Documents\\\\PracticeCode\\\\File2.xlsx\"\n",
    "\n",
    "parquet_path1 = \"C:\\\\Users\\\\nidhi\\\\Documents\\\\PracticeCode\\\\File1.Parquet\"\n",
    "parquet_path2 = \"C:\\\\Users\\\\nidhi\\\\Documents\\\\PracticeCode\\\\File2.Parquet\""
   ]
  },
  {
   "cell_type": "code",
   "execution_count": 4,
   "id": "c1c6b7d7-0625-4d4e-ae50-cbdf4f9c9271",
   "metadata": {},
   "outputs": [
    {
     "data": {
      "text/html": [
       "<div>\n",
       "<style scoped>\n",
       "    .dataframe tbody tr th:only-of-type {\n",
       "        vertical-align: middle;\n",
       "    }\n",
       "\n",
       "    .dataframe tbody tr th {\n",
       "        vertical-align: top;\n",
       "    }\n",
       "\n",
       "    .dataframe thead th {\n",
       "        text-align: right;\n",
       "    }\n",
       "</style>\n",
       "<table border=\"1\" class=\"dataframe\">\n",
       "  <thead>\n",
       "    <tr style=\"text-align: right;\">\n",
       "      <th></th>\n",
       "      <th>RecType</th>\n",
       "      <th>Pk.Fund</th>\n",
       "      <th>BonusSeries</th>\n",
       "      <th>ck.IssYear</th>\n",
       "      <th>Value1</th>\n",
       "    </tr>\n",
       "  </thead>\n",
       "  <tbody>\n",
       "    <tr>\n",
       "      <th>0</th>\n",
       "      <td>(t)</td>\n",
       "      <td>NaN</td>\n",
       "      <td>NaN</td>\n",
       "      <td>NaN</td>\n",
       "      <td>1.0</td>\n",
       "    </tr>\n",
       "    <tr>\n",
       "      <th>1</th>\n",
       "      <td>data</td>\n",
       "      <td>ALBA</td>\n",
       "      <td>BL_KJ</td>\n",
       "      <td>ALL</td>\n",
       "      <td>0.9</td>\n",
       "    </tr>\n",
       "    <tr>\n",
       "      <th>2</th>\n",
       "      <td>data</td>\n",
       "      <td>ALBA</td>\n",
       "      <td>BL_KJ</td>\n",
       "      <td>ALL</td>\n",
       "      <td>0.9</td>\n",
       "    </tr>\n",
       "    <tr>\n",
       "      <th>3</th>\n",
       "      <td>data</td>\n",
       "      <td>ALBA</td>\n",
       "      <td>BL_KJ</td>\n",
       "      <td>ALL</td>\n",
       "      <td>0.9</td>\n",
       "    </tr>\n",
       "    <tr>\n",
       "      <th>4</th>\n",
       "      <td>data</td>\n",
       "      <td>ALBA</td>\n",
       "      <td>BL_KJ</td>\n",
       "      <td>ALL</td>\n",
       "      <td>0.9</td>\n",
       "    </tr>\n",
       "  </tbody>\n",
       "</table>\n",
       "</div>"
      ],
      "text/plain": [
       "  RecType Pk.Fund BonusSeries ck.IssYear  Value1\n",
       "0     (t)     NaN         NaN        NaN     1.0\n",
       "1    data    ALBA       BL_KJ        ALL     0.9\n",
       "2    data    ALBA       BL_KJ        ALL     0.9\n",
       "3    data    ALBA       BL_KJ        ALL     0.9\n",
       "4    data    ALBA       BL_KJ        ALL     0.9"
      ]
     },
     "metadata": {},
     "output_type": "display_data"
    }
   ],
   "source": [
    "import pandas as pd\n",
    "\n",
    "file1_df = pd.read_excel(file_path1)\n",
    "display(file1_df)"
   ]
  },
  {
   "cell_type": "code",
   "execution_count": 37,
   "id": "a102bda6-5293-40d2-848a-ef0513d692d8",
   "metadata": {},
   "outputs": [
    {
     "data": {
      "text/html": [
       "<div>\n",
       "<style scoped>\n",
       "    .dataframe tbody tr th:only-of-type {\n",
       "        vertical-align: middle;\n",
       "    }\n",
       "\n",
       "    .dataframe tbody tr th {\n",
       "        vertical-align: top;\n",
       "    }\n",
       "\n",
       "    .dataframe thead th {\n",
       "        text-align: right;\n",
       "    }\n",
       "</style>\n",
       "<table border=\"1\" class=\"dataframe\">\n",
       "  <thead>\n",
       "    <tr style=\"text-align: right;\">\n",
       "      <th></th>\n",
       "      <th>RecType</th>\n",
       "      <th>Pk.Fund</th>\n",
       "      <th>BonusSeries</th>\n",
       "      <th>ck.IssYear</th>\n",
       "      <th>Value1</th>\n",
       "    </tr>\n",
       "  </thead>\n",
       "  <tbody>\n",
       "    <tr>\n",
       "      <th>0</th>\n",
       "      <td>(t)</td>\n",
       "      <td>NaN</td>\n",
       "      <td>NaN</td>\n",
       "      <td>NaN</td>\n",
       "      <td>1.0</td>\n",
       "    </tr>\n",
       "  </tbody>\n",
       "</table>\n",
       "</div>"
      ],
      "text/plain": [
       "  RecType Pk.Fund BonusSeries ck.IssYear  Value1\n",
       "0     (t)     NaN         NaN        NaN     1.0"
      ]
     },
     "metadata": {},
     "output_type": "display_data"
    },
    {
     "data": {
      "text/html": [
       "<div>\n",
       "<style scoped>\n",
       "    .dataframe tbody tr th:only-of-type {\n",
       "        vertical-align: middle;\n",
       "    }\n",
       "\n",
       "    .dataframe tbody tr th {\n",
       "        vertical-align: top;\n",
       "    }\n",
       "\n",
       "    .dataframe thead th {\n",
       "        text-align: right;\n",
       "    }\n",
       "</style>\n",
       "<table border=\"1\" class=\"dataframe\">\n",
       "  <thead>\n",
       "    <tr style=\"text-align: right;\">\n",
       "      <th></th>\n",
       "      <th>RecType</th>\n",
       "      <th>Pk.Fund</th>\n",
       "      <th>BonusSeries</th>\n",
       "      <th>ck.IssYear</th>\n",
       "      <th>Value1</th>\n",
       "    </tr>\n",
       "  </thead>\n",
       "  <tbody>\n",
       "    <tr>\n",
       "      <th>0</th>\n",
       "      <td>(t)</td>\n",
       "      <td>NaN</td>\n",
       "      <td>NaN</td>\n",
       "      <td>NaN</td>\n",
       "      <td>1.0</td>\n",
       "    </tr>\n",
       "    <tr>\n",
       "      <th>1</th>\n",
       "      <td>data</td>\n",
       "      <td>ALBA</td>\n",
       "      <td>BL_KJ</td>\n",
       "      <td>ALL</td>\n",
       "      <td>0.9</td>\n",
       "    </tr>\n",
       "    <tr>\n",
       "      <th>2</th>\n",
       "      <td>data</td>\n",
       "      <td>ALBA</td>\n",
       "      <td>BL_KJ</td>\n",
       "      <td>ALL</td>\n",
       "      <td>0.9</td>\n",
       "    </tr>\n",
       "    <tr>\n",
       "      <th>3</th>\n",
       "      <td>data</td>\n",
       "      <td>ALBA</td>\n",
       "      <td>BL_KJ</td>\n",
       "      <td>ALL</td>\n",
       "      <td>0.9</td>\n",
       "    </tr>\n",
       "    <tr>\n",
       "      <th>4</th>\n",
       "      <td>data</td>\n",
       "      <td>ALBA</td>\n",
       "      <td>BL_KJ</td>\n",
       "      <td>ALL</td>\n",
       "      <td>0.9</td>\n",
       "    </tr>\n",
       "  </tbody>\n",
       "</table>\n",
       "</div>"
      ],
      "text/plain": [
       "  RecType Pk.Fund BonusSeries ck.IssYear  Value1\n",
       "0     (t)     NaN         NaN        NaN     1.0\n",
       "1    data    ALBA       BL_KJ        ALL     0.9\n",
       "2    data    ALBA       BL_KJ        ALL     0.9\n",
       "3    data    ALBA       BL_KJ        ALL     0.9\n",
       "4    data    ALBA       BL_KJ        ALL     0.9"
      ]
     },
     "metadata": {},
     "output_type": "display_data"
    }
   ],
   "source": [
    "import pandas as pd\n",
    "\n",
    "file1_df = pd.read_excel(file_path1)\n",
    "file2_df = pd.read_excel(file_path1)\n",
    "display(file1_df.iloc[:1])\n",
    "display(file1_df)"
   ]
  },
  {
   "cell_type": "code",
   "execution_count": 5,
   "id": "b856734d-de24-4afa-9b7b-d056d8040bec",
   "metadata": {},
   "outputs": [
    {
     "name": "stdout",
     "output_type": "stream",
     "text": [
      "Index(['RECTYPE', 'PK.FUND', 'BONUSSERIES', 'CK.ISSYEAR', 'VALUE1'], dtype='object')\n"
     ]
    }
   ],
   "source": [
    "special_col = 'RECTYPE'\n",
    "file1_df.columns = [col.upper() for col in file1_df.columns]\n",
    "print(file1_df.columns)"
   ]
  },
  {
   "cell_type": "code",
   "execution_count": 6,
   "id": "5d747a50-dc74-4b59-ae12-6c07eb327c0d",
   "metadata": {},
   "outputs": [
    {
     "data": {
      "text/html": [
       "<div>\n",
       "<style scoped>\n",
       "    .dataframe tbody tr th:only-of-type {\n",
       "        vertical-align: middle;\n",
       "    }\n",
       "\n",
       "    .dataframe tbody tr th {\n",
       "        vertical-align: top;\n",
       "    }\n",
       "\n",
       "    .dataframe thead th {\n",
       "        text-align: right;\n",
       "    }\n",
       "</style>\n",
       "<table border=\"1\" class=\"dataframe\">\n",
       "  <thead>\n",
       "    <tr style=\"text-align: right;\">\n",
       "      <th></th>\n",
       "      <th>RECTYPE</th>\n",
       "      <th>PK.FUND</th>\n",
       "      <th>BONUSSERIES</th>\n",
       "      <th>CK.ISSYEAR</th>\n",
       "      <th>VALUE1</th>\n",
       "    </tr>\n",
       "  </thead>\n",
       "  <tbody>\n",
       "    <tr>\n",
       "      <th>0</th>\n",
       "      <td>(t)</td>\n",
       "      <td>NaN</td>\n",
       "      <td>NaN</td>\n",
       "      <td>NaN</td>\n",
       "      <td>1.0</td>\n",
       "    </tr>\n",
       "    <tr>\n",
       "      <th>1</th>\n",
       "      <td>data</td>\n",
       "      <td>ALBA</td>\n",
       "      <td>BL_KJ</td>\n",
       "      <td>ALL</td>\n",
       "      <td>0.9</td>\n",
       "    </tr>\n",
       "    <tr>\n",
       "      <th>2</th>\n",
       "      <td>data</td>\n",
       "      <td>ALBA</td>\n",
       "      <td>BL_KJ</td>\n",
       "      <td>ALL</td>\n",
       "      <td>0.9</td>\n",
       "    </tr>\n",
       "    <tr>\n",
       "      <th>3</th>\n",
       "      <td>data</td>\n",
       "      <td>ALBA</td>\n",
       "      <td>BL_KJ</td>\n",
       "      <td>ALL</td>\n",
       "      <td>0.9</td>\n",
       "    </tr>\n",
       "    <tr>\n",
       "      <th>4</th>\n",
       "      <td>data</td>\n",
       "      <td>ALBA</td>\n",
       "      <td>BL_KJ</td>\n",
       "      <td>ALL</td>\n",
       "      <td>0.9</td>\n",
       "    </tr>\n",
       "  </tbody>\n",
       "</table>\n",
       "</div>"
      ],
      "text/plain": [
       "  RECTYPE PK.FUND BONUSSERIES CK.ISSYEAR  VALUE1\n",
       "0     (t)     NaN         NaN        NaN     1.0\n",
       "1    data    ALBA       BL_KJ        ALL     0.9\n",
       "2    data    ALBA       BL_KJ        ALL     0.9\n",
       "3    data    ALBA       BL_KJ        ALL     0.9\n",
       "4    data    ALBA       BL_KJ        ALL     0.9"
      ]
     },
     "metadata": {},
     "output_type": "display_data"
    }
   ],
   "source": [
    "display(file1_df)"
   ]
  },
  {
   "cell_type": "code",
   "execution_count": 39,
   "id": "541aaf2b-9d71-45ff-be38-8cca87ce311e",
   "metadata": {},
   "outputs": [],
   "source": [
    "def get_vb_cols_list(df, special_list:list):\n",
    "    return[ c for c in df.columns if (c not in special_list) and not ((c[:5] == \"VALUE\") and c[5:].isdigit())\n",
    "          ]"
   ]
  },
  {
   "cell_type": "code",
   "execution_count": 40,
   "id": "1df50644-b33b-47cc-accf-407657ca1edf",
   "metadata": {},
   "outputs": [
    {
     "name": "stdout",
     "output_type": "stream",
     "text": [
      "['PK.FUND', 'BONUSSERIES', 'CK.ISSYEAR']\n"
     ]
    }
   ],
   "source": [
    "vb_cols_list = get_vb_cols_list(file1_df, [special_col])\n",
    "print(vb_cols_list)"
   ]
  },
  {
   "cell_type": "code",
   "execution_count": 41,
   "id": "36325ca7-2c28-4d5d-9a24-6e9ccb30919d",
   "metadata": {},
   "outputs": [
    {
     "name": "stdout",
     "output_type": "stream",
     "text": [
      "0     (t)\n",
      "1    data\n",
      "Name: RECTYPE, dtype: object\n",
      "1\n"
     ]
    }
   ],
   "source": [
    "possible_indices = file1_df.iloc[:2][special_col]\n",
    "print(possible_indices)\n",
    "if possible_indices.iloc[1] == 'data':\n",
    "    index_len = 1\n",
    "else:\n",
    "    index_len = 2\n",
    "print(index_len)"
   ]
  },
  {
   "cell_type": "code",
   "execution_count": 42,
   "id": "0107a943-c1cb-4736-bcf7-98b1a8f58653",
   "metadata": {},
   "outputs": [],
   "source": [
    "def handle_ait_index_data_types(file1_df, index_len, special_col):\n",
    "    indices = {}\n",
    "    cols = file1_df.iloc[:index_len][[c for c in file1_df.columns if c not in ['RECTYPE'] + get_vb_cols_list(file1_df, [special_col])\n",
    "    ]]\n",
    "    print(cols)\n",
    "    for i in range(index_len):\n",
    "        try:\n",
    "            vals =cols.iloc[i].values.astype(\"int32\")\n",
    "        except ValueError:\n",
    "            vals =cols.iloc[i].values\n",
    "        indices[file1_df[special_col].iloc[i]] = vals\n",
    "    return indices\n",
    "    "
   ]
  },
  {
   "cell_type": "code",
   "execution_count": 43,
   "id": "585325e6-b30b-4f60-9f8d-4754cff8010a",
   "metadata": {},
   "outputs": [
    {
     "name": "stdout",
     "output_type": "stream",
     "text": [
      "   VALUE1\n",
      "0     1.0\n",
      "{'(t)': array([1])}\n"
     ]
    }
   ],
   "source": [
    "indices = handle_ait_index_data_types(file1_df, index_len, special_col)\n",
    "print(indices)\n"
   ]
  },
  {
   "cell_type": "code",
   "execution_count": 44,
   "id": "a8ac64ef-1c1b-4c5c-a307-458236a05ab3",
   "metadata": {},
   "outputs": [
    {
     "name": "stdout",
     "output_type": "stream",
     "text": [
      "[[0.9]\n",
      " [0.9]\n",
      " [0.9]\n",
      " [0.9]]\n"
     ]
    }
   ],
   "source": [
    "import numpy as np\n",
    "vals = file1_df.iloc[index_len:][[c for c in file1_df.columns if c not in [special_col] +vb_cols_list]].values\n",
    "vals = vals.astype(np.float64)\n",
    "print(vals)"
   ]
  },
  {
   "cell_type": "code",
   "execution_count": 45,
   "id": "5702f261-8973-4570-a18e-25f741f50f72",
   "metadata": {},
   "outputs": [
    {
     "name": "stdout",
     "output_type": "stream",
     "text": [
      "  PK.FUND BONUSSERIES CK.ISSYEAR\n",
      "1    ALBA       BL_KJ        ALL\n",
      "2    ALBA       BL_KJ        ALL\n",
      "3    ALBA       BL_KJ        ALL\n",
      "4    ALBA       BL_KJ        ALL\n"
     ]
    }
   ],
   "source": [
    "vb_cols = file1_df.iloc[index_len:][vb_cols_list]\n",
    "vb_cols = vb_cols.assign(**{col: vb_cols[col].str.upper() for col in vb_cols.columns})\n",
    "print(vb_cols)"
   ]
  },
  {
   "cell_type": "code",
   "execution_count": 46,
   "id": "a9f76a93-3051-49d5-82ee-6208dd50a10e",
   "metadata": {},
   "outputs": [
    {
     "name": "stdout",
     "output_type": "stream",
     "text": [
      "  PK.FUND BONUSSERIES CK.ISSYEAR\n",
      "1    ALBA       BL_KJ        ALL\n",
      "2    ALBA       BL_KJ        ALL\n",
      "3    ALBA       BL_KJ        ALL\n",
      "4    ALBA       BL_KJ        ALL\n"
     ]
    }
   ],
   "source": [
    "vb_cols = vb_cols.assign(**{col: vb_cols[col].astype('category') for col in vb_cols.columns})\n",
    "print(vb_cols)"
   ]
  },
  {
   "cell_type": "code",
   "execution_count": 47,
   "id": "b5c209b1-b2d4-470e-a60e-d8d121565a4b",
   "metadata": {},
   "outputs": [
    {
     "data": {
      "text/html": [
       "<div>\n",
       "<style scoped>\n",
       "    .dataframe tbody tr th:only-of-type {\n",
       "        vertical-align: middle;\n",
       "    }\n",
       "\n",
       "    .dataframe tbody tr th {\n",
       "        vertical-align: top;\n",
       "    }\n",
       "\n",
       "    .dataframe thead th {\n",
       "        text-align: right;\n",
       "    }\n",
       "</style>\n",
       "<table border=\"1\" class=\"dataframe\">\n",
       "  <thead>\n",
       "    <tr style=\"text-align: right;\">\n",
       "      <th></th>\n",
       "      <th>(t)</th>\n",
       "    </tr>\n",
       "  </thead>\n",
       "  <tbody>\n",
       "    <tr>\n",
       "      <th>0</th>\n",
       "      <td>1</td>\n",
       "    </tr>\n",
       "  </tbody>\n",
       "</table>\n",
       "</div>"
      ],
      "text/plain": [
       "   (t)\n",
       "0    1"
      ]
     },
     "metadata": {},
     "output_type": "display_data"
    },
    {
     "data": {
      "text/plain": [
       "MultiIndex([(1,)],\n",
       "           names=['(t)'])"
      ]
     },
     "metadata": {},
     "output_type": "display_data"
    }
   ],
   "source": [
    "index_df = pd.DataFrame.from_dict({k:v for k,v in indices.items()})\n",
    "display(index_df)\n",
    "index = pd.MultiIndex.from_frame(index_df)\n",
    "display(index)\n"
   ]
  },
  {
   "cell_type": "code",
   "execution_count": 56,
   "id": "bca7bf43-4194-482d-a04d-9b49d6cbc520",
   "metadata": {},
   "outputs": [
    {
     "data": {
      "text/html": [
       "<div>\n",
       "<style scoped>\n",
       "    .dataframe tbody tr th:only-of-type {\n",
       "        vertical-align: middle;\n",
       "    }\n",
       "\n",
       "    .dataframe tbody tr th {\n",
       "        vertical-align: top;\n",
       "    }\n",
       "\n",
       "    .dataframe thead tr th {\n",
       "        text-align: left;\n",
       "    }\n",
       "\n",
       "    .dataframe thead tr:last-of-type th {\n",
       "        text-align: right;\n",
       "    }\n",
       "</style>\n",
       "<table border=\"1\" class=\"dataframe\">\n",
       "  <thead>\n",
       "    <tr>\n",
       "      <th></th>\n",
       "      <th></th>\n",
       "      <th>(t)</th>\n",
       "      <th>1</th>\n",
       "    </tr>\n",
       "    <tr>\n",
       "      <th>PK.FUND</th>\n",
       "      <th>BONUSSERIES</th>\n",
       "      <th>CK.ISSYEAR</th>\n",
       "      <th></th>\n",
       "    </tr>\n",
       "  </thead>\n",
       "  <tbody>\n",
       "    <tr>\n",
       "      <th rowspan=\"4\" valign=\"top\">ALBA</th>\n",
       "      <th rowspan=\"4\" valign=\"top\">BL_KJ</th>\n",
       "      <th>ALL</th>\n",
       "      <td>0.9</td>\n",
       "    </tr>\n",
       "    <tr>\n",
       "      <th>ALL</th>\n",
       "      <td>0.9</td>\n",
       "    </tr>\n",
       "    <tr>\n",
       "      <th>ALL</th>\n",
       "      <td>0.9</td>\n",
       "    </tr>\n",
       "    <tr>\n",
       "      <th>ALL</th>\n",
       "      <td>0.9</td>\n",
       "    </tr>\n",
       "  </tbody>\n",
       "</table>\n",
       "</div>"
      ],
      "text/plain": [
       "(t)                               1\n",
       "PK.FUND BONUSSERIES CK.ISSYEAR     \n",
       "ALBA    BL_KJ       ALL         0.9\n",
       "                    ALL         0.9\n",
       "                    ALL         0.9\n",
       "                    ALL         0.9"
      ]
     },
     "metadata": {},
     "output_type": "display_data"
    },
    {
     "name": "stdout",
     "output_type": "stream",
     "text": [
      "4\n",
      "1\n"
     ]
    }
   ],
   "source": [
    "core_df = pd.DataFrame(index=pd.MultiIndex.from_frame(vb_cols),data=vals, columns=index)\n",
    "display(core_df)\n",
    "tota_rows = core_df.shape[0]\n",
    "tota_cols = core_df.shape[1]\n",
    "print(tota_rows)\n",
    "print(tota_cols)"
   ]
  },
  {
   "cell_type": "code",
   "execution_count": 53,
   "id": "4bd403ec-7842-499c-b885-bf72c39fa618",
   "metadata": {},
   "outputs": [
    {
     "data": {
      "text/html": [
       "<div>\n",
       "<style scoped>\n",
       "    .dataframe tbody tr th:only-of-type {\n",
       "        vertical-align: middle;\n",
       "    }\n",
       "\n",
       "    .dataframe tbody tr th {\n",
       "        vertical-align: top;\n",
       "    }\n",
       "\n",
       "    .dataframe thead th {\n",
       "        text-align: right;\n",
       "    }\n",
       "</style>\n",
       "<table border=\"1\" class=\"dataframe\">\n",
       "  <thead>\n",
       "    <tr style=\"text-align: right;\">\n",
       "      <th></th>\n",
       "      <th></th>\n",
       "      <th></th>\n",
       "      <th>(t)</th>\n",
       "      <th>value</th>\n",
       "    </tr>\n",
       "    <tr>\n",
       "      <th>PK.FUND</th>\n",
       "      <th>BONUSSERIES</th>\n",
       "      <th>CK.ISSYEAR</th>\n",
       "      <th></th>\n",
       "      <th></th>\n",
       "    </tr>\n",
       "  </thead>\n",
       "  <tbody>\n",
       "    <tr>\n",
       "      <th rowspan=\"4\" valign=\"top\">ALBA</th>\n",
       "      <th rowspan=\"4\" valign=\"top\">BL_KJ</th>\n",
       "      <th>ALL</th>\n",
       "      <td>1</td>\n",
       "      <td>0.9</td>\n",
       "    </tr>\n",
       "    <tr>\n",
       "      <th>ALL</th>\n",
       "      <td>1</td>\n",
       "      <td>0.9</td>\n",
       "    </tr>\n",
       "    <tr>\n",
       "      <th>ALL</th>\n",
       "      <td>1</td>\n",
       "      <td>0.9</td>\n",
       "    </tr>\n",
       "    <tr>\n",
       "      <th>ALL</th>\n",
       "      <td>1</td>\n",
       "      <td>0.9</td>\n",
       "    </tr>\n",
       "  </tbody>\n",
       "</table>\n",
       "</div>"
      ],
      "text/plain": [
       "                                (t)  value\n",
       "PK.FUND BONUSSERIES CK.ISSYEAR            \n",
       "ALBA    BL_KJ       ALL           1    0.9\n",
       "                    ALL           1    0.9\n",
       "                    ALL           1    0.9\n",
       "                    ALL           1    0.9"
      ]
     },
     "execution_count": 53,
     "metadata": {},
     "output_type": "execute_result"
    }
   ],
   "source": [
    "pd.melt(core_df, ignore_index = False)"
   ]
  },
  {
   "cell_type": "code",
   "execution_count": 52,
   "id": "6aad05f8-bd4c-4cc9-b99d-2ce5ac5dcf49",
   "metadata": {},
   "outputs": [
    {
     "ename": "AttributeError",
     "evalue": "'DataFrame' object has no attribute 'unpivot'",
     "output_type": "error",
     "traceback": [
      "\u001b[1;31m---------------------------------------------------------------------------\u001b[0m",
      "\u001b[1;31mAttributeError\u001b[0m                            Traceback (most recent call last)",
      "\u001b[1;32m~\\AppData\\Local\\Temp\\ipykernel_37924\\1984895171.py\u001b[0m in \u001b[0;36m?\u001b[1;34m()\u001b[0m\n\u001b[1;32m----> 1\u001b[1;33m \u001b[0mcore_df\u001b[0m\u001b[1;33m.\u001b[0m\u001b[0munpivot\u001b[0m\u001b[1;33m(\u001b[0m\u001b[1;33m)\u001b[0m\u001b[1;33m.\u001b[0m\u001b[0mto_parquet\u001b[0m\u001b[1;33m(\u001b[0m\u001b[0mparquet_path1\u001b[0m\u001b[1;33m)\u001b[0m\u001b[1;33m\u001b[0m\u001b[1;33m\u001b[0m\u001b[0m\n\u001b[0m",
      "\u001b[1;32m~\\anaconda3\\Lib\\site-packages\\pandas\\core\\generic.py\u001b[0m in \u001b[0;36m?\u001b[1;34m(self, name)\u001b[0m\n\u001b[0;32m   6200\u001b[0m             \u001b[1;32mand\u001b[0m \u001b[0mname\u001b[0m \u001b[1;32mnot\u001b[0m \u001b[1;32min\u001b[0m \u001b[0mself\u001b[0m\u001b[1;33m.\u001b[0m\u001b[0m_accessors\u001b[0m\u001b[1;33m\u001b[0m\u001b[1;33m\u001b[0m\u001b[0m\n\u001b[0;32m   6201\u001b[0m             \u001b[1;32mand\u001b[0m \u001b[0mself\u001b[0m\u001b[1;33m.\u001b[0m\u001b[0m_info_axis\u001b[0m\u001b[1;33m.\u001b[0m\u001b[0m_can_hold_identifiers_and_holds_name\u001b[0m\u001b[1;33m(\u001b[0m\u001b[0mname\u001b[0m\u001b[1;33m)\u001b[0m\u001b[1;33m\u001b[0m\u001b[1;33m\u001b[0m\u001b[0m\n\u001b[0;32m   6202\u001b[0m         ):\n\u001b[0;32m   6203\u001b[0m             \u001b[1;32mreturn\u001b[0m \u001b[0mself\u001b[0m\u001b[1;33m[\u001b[0m\u001b[0mname\u001b[0m\u001b[1;33m]\u001b[0m\u001b[1;33m\u001b[0m\u001b[1;33m\u001b[0m\u001b[0m\n\u001b[1;32m-> 6204\u001b[1;33m         \u001b[1;32mreturn\u001b[0m \u001b[0mobject\u001b[0m\u001b[1;33m.\u001b[0m\u001b[0m__getattribute__\u001b[0m\u001b[1;33m(\u001b[0m\u001b[0mself\u001b[0m\u001b[1;33m,\u001b[0m \u001b[0mname\u001b[0m\u001b[1;33m)\u001b[0m\u001b[1;33m\u001b[0m\u001b[1;33m\u001b[0m\u001b[0m\n\u001b[0m",
      "\u001b[1;31mAttributeError\u001b[0m: 'DataFrame' object has no attribute 'unpivot'"
     ]
    }
   ],
   "source": [
    "core_df.unpivot().to_parquet(parquet_path1)"
   ]
  },
  {
   "cell_type": "code",
   "execution_count": 7,
   "id": "9a799e01-2244-40ca-a81f-df052b34d84c",
   "metadata": {},
   "outputs": [],
   "source": [
    "file1_df.to_parquet(parquet_path1)\n",
    "file2_df.to_parquet(parquet_path2)"
   ]
  },
  {
   "cell_type": "code",
   "execution_count": 8,
   "id": "64844dce-0166-4b2c-bc8f-18ff828a0e1d",
   "metadata": {},
   "outputs": [],
   "source": [
    "file1_parquet_df = pd.read_parquet(parquet_path1)\n",
    "file2_parquet_df = pd.read_parquet(parquet_path1)"
   ]
  },
  {
   "cell_type": "code",
   "execution_count": 9,
   "id": "acca2b7b-6bcb-4154-8682-9489097058a3",
   "metadata": {},
   "outputs": [
    {
     "data": {
      "text/html": [
       "<div>\n",
       "<style scoped>\n",
       "    .dataframe tbody tr th:only-of-type {\n",
       "        vertical-align: middle;\n",
       "    }\n",
       "\n",
       "    .dataframe tbody tr th {\n",
       "        vertical-align: top;\n",
       "    }\n",
       "\n",
       "    .dataframe thead th {\n",
       "        text-align: right;\n",
       "    }\n",
       "</style>\n",
       "<table border=\"1\" class=\"dataframe\">\n",
       "  <thead>\n",
       "    <tr style=\"text-align: right;\">\n",
       "      <th></th>\n",
       "      <th>RecType</th>\n",
       "      <th>Pk.Fund</th>\n",
       "      <th>BonusSeries</th>\n",
       "      <th>ck.IssYear</th>\n",
       "      <th>Value1</th>\n",
       "    </tr>\n",
       "  </thead>\n",
       "  <tbody>\n",
       "    <tr>\n",
       "      <th>0</th>\n",
       "      <td>(t)</td>\n",
       "      <td>None</td>\n",
       "      <td>None</td>\n",
       "      <td>None</td>\n",
       "      <td>1.0</td>\n",
       "    </tr>\n",
       "    <tr>\n",
       "      <th>1</th>\n",
       "      <td>data</td>\n",
       "      <td>ALBA</td>\n",
       "      <td>BL_KJ</td>\n",
       "      <td>ALL</td>\n",
       "      <td>0.9</td>\n",
       "    </tr>\n",
       "    <tr>\n",
       "      <th>2</th>\n",
       "      <td>data</td>\n",
       "      <td>ALBA</td>\n",
       "      <td>BL_KJ</td>\n",
       "      <td>ALL</td>\n",
       "      <td>0.9</td>\n",
       "    </tr>\n",
       "    <tr>\n",
       "      <th>3</th>\n",
       "      <td>data</td>\n",
       "      <td>ALBA</td>\n",
       "      <td>BL_KJ</td>\n",
       "      <td>ALL</td>\n",
       "      <td>0.9</td>\n",
       "    </tr>\n",
       "    <tr>\n",
       "      <th>4</th>\n",
       "      <td>data</td>\n",
       "      <td>ALBA</td>\n",
       "      <td>BL_KJ</td>\n",
       "      <td>ALL</td>\n",
       "      <td>0.9</td>\n",
       "    </tr>\n",
       "  </tbody>\n",
       "</table>\n",
       "</div>"
      ],
      "text/plain": [
       "  RecType Pk.Fund BonusSeries ck.IssYear  Value1\n",
       "0     (t)    None        None       None     1.0\n",
       "1    data    ALBA       BL_KJ        ALL     0.9\n",
       "2    data    ALBA       BL_KJ        ALL     0.9\n",
       "3    data    ALBA       BL_KJ        ALL     0.9\n",
       "4    data    ALBA       BL_KJ        ALL     0.9"
      ]
     },
     "metadata": {},
     "output_type": "display_data"
    }
   ],
   "source": [
    "display(file1_parquet_df)"
   ]
  },
  {
   "cell_type": "code",
   "execution_count": null,
   "id": "5258deae-3038-45ae-be07-2d2a623ecf90",
   "metadata": {},
   "outputs": [],
   "source": []
  }
 ],
 "metadata": {
  "kernelspec": {
   "display_name": "Python 3 (ipykernel)",
   "language": "python",
   "name": "python3"
  },
  "language_info": {
   "codemirror_mode": {
    "name": "ipython",
    "version": 3
   },
   "file_extension": ".py",
   "mimetype": "text/x-python",
   "name": "python",
   "nbconvert_exporter": "python",
   "pygments_lexer": "ipython3",
   "version": "3.11.7"
  }
 },
 "nbformat": 4,
 "nbformat_minor": 5
}
