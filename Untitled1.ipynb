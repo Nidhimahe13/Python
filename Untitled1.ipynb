{
 "cells": [
  {
   "cell_type": "code",
   "execution_count": null,
   "id": "926f7bcc-1d8d-4013-9011-eed4b0d5c603",
   "metadata": {},
   "outputs": [],
   "source": [
    "#Split by Column\n",
    "import pandas as pd\n",
    "\n",
    "\n",
    "# Function to split the content by line breaks\n",
    "def split_cell(cell):\n",
    "    return cell.split('\\n')\n",
    "\n",
    "# Apply the function to split data\n",
    "split_data = df['Column'].apply(split_cell)\n",
    "\n",
    "# Create a new DataFrame from the split data\n",
    "expanded_df = pd.DataFrame(split_data.tolist(), columns=['Column1', 'Column2', 'Column3'])\n",
    "\n",
    "# Save to Excel if needed\n",
    "expanded_df.to_excel('output.xlsx', index=False)\n",
    "\n",
    "print(expanded_df)\n"
   ]
  },
  {
   "cell_type": "code",
   "execution_count": null,
   "id": "bbd681c9-b1ee-465c-842d-4db08740800e",
   "metadata": {},
   "outputs": [],
   "source": [
    "import pandas as pd\n",
    "df = pd.DataFrame(data)\n",
    "\n",
    "# Function to split the content by line breaks\n",
    "def split_cell(cell):\n",
    "    return cell.split('\\n')\n",
    "\n",
    "# Expand the 'Column' into multiple rows\n",
    "expanded_rows = df['Column'].apply(lambda x: pd.Series(split_cell(x))).stack().reset_index(level=0, drop=True)\n",
    "expanded_df = pd.DataFrame(expanded_rows, columns=['Column'])\n",
    "\n",
    "# Merge with the remaining data\n",
    "remaining_data = df.drop(columns=['Column']).loc[expanded_df.index].reset_index(drop=True)\n",
    "final_df = pd.concat([expanded_df, remaining_data], axis=1)\n",
    "\n",
    "# Save to Excel if needed\n",
    "final_df.to_excel('output.xlsx', index=False)\n",
    "\n",
    "print(final_df)\n"
   ]
  }
 ],
 "metadata": {
  "kernelspec": {
   "display_name": "Python 3 (ipykernel)",
   "language": "python",
   "name": "python3"
  },
  "language_info": {
   "codemirror_mode": {
    "name": "ipython",
    "version": 3
   },
   "file_extension": ".py",
   "mimetype": "text/x-python",
   "name": "python",
   "nbconvert_exporter": "python",
   "pygments_lexer": "ipython3",
   "version": "3.11.7"
  }
 },
 "nbformat": 4,
 "nbformat_minor": 5
}
