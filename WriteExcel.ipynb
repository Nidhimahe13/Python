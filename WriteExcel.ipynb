{
 "cells": [
  {
   "cell_type": "code",
   "execution_count": null,
   "id": "aad3df0d-44cb-4d89-9411-fce7dd4df2f2",
   "metadata": {},
   "outputs": [],
   "source": [
    "import pandas as pd\n",
    "from pathlib import Path\n",
    "def _write_table_properties(writer: pd.ExcelWriter, file_path: Path, meta_comparison: Dict[str, Dict[str, Dict]]):\n",
    "    df_dict = {}\n",
    "    for table_name , meta_dict in meta_comparison.items():\n",
    "        for label, data in meta_dict.items():\n",
    "            if data:\n",
    "                table_name = {\"TableName\" : table_name}\n",
    "                table_name.update(data)\n",
    "                if label not in df_dict:\n",
    "                    df_dict[label] = []\n",
    "                df_dict[label].append(table_name)\n",
    "\n",
    "    for label in df_dict:\n",
    "        df_dict[label] = pd.DataFrame(df_dict[label].fillna(\"\")"
   ]
  },
  {
   "cell_type": "code",
   "execution_count": null,
   "id": "902d15a3-2c4e-44a7-9bf4-4bba70d00e76",
   "metadata": {},
   "outputs": [],
   "source": [
    "import numpy as np\n",
    "def get_index_range(Self, table: str) -> tuple[np.array, Union[np.array, None]]:\n",
    "    index_func_map = { \"daterange\" : _index_daterange,\"constant\" : _index_constant}\n",
    "    index1 = index_func_map[\"constant\"](\n",
    "        {\n",
    "            \"Index_Start\" : 0,\n",
    "            \"Index_End\" : 0,\n",
    "            \"Index_Step\": 0\n",
    "        }\n",
    "    index2 = index_func_map[\"daterange\"](\n",
    "        {\n",
    "            \"Index_Start\" : \"01/2023\",\n",
    "            \"Index_End\" : \"12/2024\",\n",
    "            \"Index_Step\": \"monthly\"\n",
    "        }\n",
    "    return np.repeat(index1, len(len(index2)), np.tile(index2, len(index1))\n",
    "\n",
    "\n",
    "def _index_daterange(index_details: dict[str, str]) -> np.array:\n",
    "\n",
    "    if index_details[\"Index_Step\"] == \"monthly\":\n",
    "        start = pd.to_datetime(index_details[\"Index_Start\"], format=\"%m%Y\")\n",
    "        stop = pd.to_datetime(index_details[\"Index_End\"], format=\"%m%Y\")\n",
    "        range_Df(pd.to_datetime([start, stop]) + pd.offsets.MonthEnd()\n",
    "        date_Series = (\n",
    "        pd.Series(pd.date_Range(*range_def, fewq=\"ME\")).dt.strftime(\"%m%Y\").str.lsstrip(\"0\"))\n",
    "        "
   ]
  },
  {
   "cell_type": "code",
   "execution_count": 9,
   "id": "1c00327e-badf-47e6-9c52-775d98faf83c",
   "metadata": {},
   "outputs": [
    {
     "name": "stdout",
     "output_type": "stream",
     "text": [
      "Result for '1/2024': ['1/2024' '2/2024' '3/2024' '4/2024' '5/2024' '6/2024' '7/2024' '8/2024'\n",
      " '9/2024' '10/2024' '11/2024']\n",
      "Result for '01/2024': ['01/2024' '02/2024' '03/2024' '04/2024' '05/2024' '06/2024' '07/2024'\n",
      " '08/2024' '09/2024' '10/2024' '11/2024']\n"
     ]
    }
   ],
   "source": [
    "import pandas as pd\n",
    "import numpy as np\n",
    "from typing import Dict\n",
    "\n",
    "def detect_format(date_str: str) -> str:\n",
    "    \"\"\"Detect the format of the input date string based on its length.\"\"\"\n",
    "    # Check if the month part has leading zeros\n",
    "    if len(date_str.split('/')[0]) == 2:\n",
    "        return \"%m/%Y\"  # Format with leading zeros\n",
    "    else:\n",
    "        return \"%-m/%Y\"  # Format without leading zeros (manual handling required)\n",
    "\n",
    "def _index_daterange(index_details: Dict[str, str]) -> np.array:\n",
    "    if index_details[\"Index_Step\"] == \"monthly\":\n",
    "        # Detect the format from the start date\n",
    "        date_format = detect_format(index_details[\"Index_Start\"])\n",
    "        \n",
    "        # Parse the start and stop dates using the detected format\n",
    "        start = pd.to_datetime(index_details[\"Index_Start\"], format=\"%m/%Y\")\n",
    "        stop = pd.to_datetime(index_details[\"Index_End\"], format=\"%m/%Y\")\n",
    "        \n",
    "        # Generate a monthly date range\n",
    "        date_range = pd.date_range(start, stop, freq=\"M\")\n",
    "        \n",
    "        # Format dates according to the detected format\n",
    "        if date_format == \"%m/%Y\":\n",
    "            # Ensure month part has leading zeros if needed\n",
    "            formatted_dates = date_range.strftime(\"%m/%Y\")\n",
    "        else:\n",
    "            # Format without leading zeros\n",
    "            formatted_dates = [f\"{d.month}/{d.year}\" for d in date_range]\n",
    "        \n",
    "        return np.array(formatted_dates)\n",
    "\n",
    "# Example usage\n",
    "index_details_1 = {\n",
    "    \"Index_Start\": \"1/2024\",\n",
    "    \"Index_End\": \"12/2024\",\n",
    "    \"Index_Step\": \"monthly\"\n",
    "}\n",
    "\n",
    "index_details_2 = {\n",
    "    \"Index_Start\": \"01/2024\",\n",
    "    \"Index_End\": \"12/2024\",\n",
    "    \"Index_Step\": \"monthly\"\n",
    "}\n",
    "\n",
    "result_1 = _index_daterange(index_details_1)\n",
    "result_2 = _index_daterange(index_details_2)\n",
    "\n",
    "print(\"Result for '1/2024':\", result_1)\n",
    "print(\"Result for '01/2024':\", result_2)\n"
   ]
  },
  {
   "cell_type": "code",
   "execution_count": null,
   "id": "9737a697-bf04-4f3e-afc8-d81abaaaec44",
   "metadata": {},
   "outputs": [],
   "source": []
  }
 ],
 "metadata": {
  "kernelspec": {
   "display_name": "Python 3 (ipykernel)",
   "language": "python",
   "name": "python3"
  },
  "language_info": {
   "codemirror_mode": {
    "name": "ipython",
    "version": 3
   },
   "file_extension": ".py",
   "mimetype": "text/x-python",
   "name": "python",
   "nbconvert_exporter": "python",
   "pygments_lexer": "ipython3",
   "version": "3.11.7"
  }
 },
 "nbformat": 4,
 "nbformat_minor": 5
}
